{
 "cells": [
  {
   "cell_type": "markdown",
   "metadata": {},
   "source": [
    "# 5.3. Experiments and Evaluation"
   ]
  },
  {
   "cell_type": "markdown",
   "metadata": {},
   "source": [
    "### Utility Code"
   ]
  },
  {
   "cell_type": "markdown",
   "metadata": {},
   "source": [
    "#### Imports"
   ]
  },
  {
   "cell_type": "code",
   "execution_count": null,
   "metadata": {},
   "outputs": [],
   "source": [
    "# Libraries\n",
    "import seaborn as sns\n",
    "import matplotlib.pyplot as plt\n",
    "import pandas as pd\n",
    "import os\n",
    "import json\n",
    "import numpy as np\n",
    "from typing import List\n",
    "import warnings\n",
    "import sys\n",
    "\n",
    "# Add the parent directory with the library\n",
    "sys.path.append(os.path.join(os.path.dirname(os.getcwd()), 'lib'))\n",
    "\n",
    "# Local imports\n",
    "from constants import SCENARIOS, DIRECTIONS, PALETTES\n",
    "\n",
    "\n",
    "warnings.filterwarnings(\n",
    "    \"ignore\"\n",
    ")  # Disable long warnings when NaN values are encountered\n",
    "\n",
    "IMAX_VALUES = [\"OFF\", \"3\", \"6\", \"9\"]\n",
    "REPS = 100"
   ]
  },
  {
   "cell_type": "markdown",
   "metadata": {},
   "source": [
    "## 1. Probability of Congestion relative to $i_\\text{max}$\n",
    "Plot the probability of congestion relative to $i_\\text{max}$ using spare capacity data retrieved from the simulator for $i_\\text{max} \\in \\{3, 6, 9\\}$.."
   ]
  },
  {
   "cell_type": "markdown",
   "metadata": {},
   "source": [
    "## 2. Empirical Expected Malicious Traffic relative to $i_\\text{max}$"
   ]
  },
  {
   "cell_type": "code",
   "execution_count": null,
   "metadata": {},
   "outputs": [],
   "source": [
    "from stats import ExpectedMaliciousTraffic\n",
    "\n",
    " \n",
    "\n",
    "# NOTE: NOT FINISHED WITH THIS. NEED TO FIX IT LATER.\n",
    "\n",
    "# Cumulative Distribution Function (of RTT)\n",
    "for scenario in SCENARIOS:\n",
    "# for geographical_case in {\"Landlocked\"}:\n",
    "    ExpectedMaliciousTraffic().single_plot(\n",
    "        geographical_case,\n",
    "        \"East\",\n",
    "        imax_list={3, 6, 9},\n",
    "        reps=100,\n",
    "        plot_type=\"line\",\n",
    "        imaxes=[3, 6, 9],\n",
    "    )"
   ]
  },
  {
   "cell_type": "markdown",
   "metadata": {},
   "source": [
    "## 3. Network Performance relative to $i_\\text{max}$\n",
    "Plots the network performance relative to $i_\\text{max}$ for $i_\\text{max} \\in \\{3, 6, 9\\}$."
   ]
  },
  {
   "cell_type": "code",
   "execution_count": null,
   "metadata": {},
   "outputs": [],
   "source": [
    "from stats import MedianLatency\n",
    "\n",
    "# I think the stuff below is mostly utility functions. Some of this needs to be cleaned up by the way.\n",
    "\n",
    "for scenario in SCENARIOS:\n",
    "    # NOTE: I WOULD LIKE TO DO TOTAL AS WELL.\n",
    "    sns.set_palette(PALETTES[scenario])\n",
    "    MedianLatency().plot(scenario, DIRECTIONS[scenario], IMAX_VALUES, REPS, plot_type=\"cdf\")\n",
    "    MedianLatency().plot(scenario, DIRECTIONS[scenario], IMAX_VALUES, REPS, plot_type=\"timeseries\")"
   ]
  }
 ],
 "metadata": {
  "kernelspec": {
   "display_name": "Python 3",
   "language": "python",
   "name": "python3"
  },
  "language_info": {
   "codemirror_mode": {
    "name": "ipython",
    "version": 3
   },
   "file_extension": ".py",
   "mimetype": "text/x-python",
   "name": "python",
   "nbconvert_exporter": "python",
   "pygments_lexer": "ipython3",
   "version": "3.12.4"
  }
 },
 "nbformat": 4,
 "nbformat_minor": 2
}
